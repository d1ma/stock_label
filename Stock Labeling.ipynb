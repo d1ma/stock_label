{
 "cells": [
  {
   "cell_type": "markdown",
   "metadata": {},
   "source": [
    "#### Do standard imports for Python Data Work"
   ]
  },
  {
   "cell_type": "code",
   "execution_count": 4,
   "metadata": {
    "collapsed": false
   },
   "outputs": [
    {
     "name": "stdout",
     "output_type": "stream",
     "text": [
      "The autoreload extension is already loaded. To reload it, use:\n",
      "  %reload_ext autoreload\n"
     ]
    }
   ],
   "source": [
    "import sys, os\n",
    "from numpy import *\n",
    "from matplotlib.pyplot import *\n",
    "%matplotlib inline\n",
    "matplotlib.rcParams['savefig.dpi'] = 100\n",
    "\n",
    "%load_ext autoreload\n",
    "%autoreload 2"
   ]
  },
  {
   "cell_type": "markdown",
   "metadata": {},
   "source": [
    "#### Add working paths"
   ]
  },
  {
   "cell_type": "code",
   "execution_count": 50,
   "metadata": {
    "collapsed": false
   },
   "outputs": [],
   "source": [
    "from os.path import expanduser\n",
    "import re\n",
    "home = expanduser(\"~\")\n",
    "vc_dir = \"Dropbox/Data Scrape of VC/\"\n",
    "training_dir = \"NLP Training Set\"\n",
    "\n",
    "full_input_dir = os.path.join(home, vc_dir, training_dir)"
   ]
  },
  {
   "cell_type": "markdown",
   "metadata": {},
   "source": [
    "## Extract all labels from training data"
   ]
  },
  {
   "cell_type": "code",
   "execution_count": 70,
   "metadata": {
    "collapsed": false
   },
   "outputs": [],
   "source": [
    "all_files = os.listdir(full_input_dir)\n",
    "full_path = [os.path.join(full_input_dir, x) for x in all_files ]\n",
    "files = [x for x in full_path if os.path.isfile(x)]\n",
    "regex = \"\\[\\[(.*?)\\]\\]\"\n",
    "labels = []\n",
    "match_objs = []\n",
    "for f in files:\n",
    "    with open(f, 'r') as in_f:\n",
    "        for m in re.finditer(regex, in_f.read()):\n",
    "            current_tag = m.group()\n",
    "            labels += [current_tag]\n",
    "            match_objs += [m]\n",
    "            \n",
    "stripped_labels = [x[2:-2] for x in labels]\n",
    "share_tags = [x.split(\":\")[0] for x in stripped_labels]\n",
    "count_tags = [x.split(\":\")[1] for x in stripped_labels]\n",
    "tags_to_count = {}\n",
    "for label in stripped_labels:\n",
    "    name, _ = label.split(\":\")\n",
    "    count = tags_to_count.get(name, 0)\n",
    "    tags_to_count[name] = count + 1"
   ]
  },
  {
   "cell_type": "markdown",
   "metadata": {},
   "source": [
    "#### Here are some stats about the current labeled dataset"
   ]
  },
  {
   "cell_type": "code",
   "execution_count": 71,
   "metadata": {
    "collapsed": false
   },
   "outputs": [
    {
     "name": "stdout",
     "output_type": "stream",
     "text": [
      "===== [Stats on the training data] =====\n",
      "Number of documents: 69\n",
      "Number of training samples: 366\n",
      "Number of unique labels: 36\n",
      "('Series FV Preferred Shares', 1)\n",
      " ('Series C2 Preferred Shares', 1)\n",
      " ('Series Seed1 Preferred Shares', 1)\n",
      " ('Series E1 Preferred Shares', 1)\n",
      " ('Series 5B2 Preferred Shares', 1)\n",
      " ('Series AA Preferred Shares', 1)\n",
      " ('Series F1 Preferred Shares', 1)\n",
      " ('Series 5 Preferred Shares', 1)\n",
      " ('Series 4 Preferred Shares', 1)\n",
      " ('Series 5A Preferred Shares', 1)\n",
      " ('Series 3 Preferred Shares', 1)\n",
      " ('Series Z Preferred Shares', 1)\n",
      " ('Series BB Preferred Shares', 1)\n",
      " ('Series 5B1 Preferred Shares', 1)\n",
      " ('Series Junior Preferred Shares', 1)\n",
      " ('Series FT Preferred Shares', 1)\n",
      " ('Series 2 Preferred Shares', 2)\n",
      " ('Series 1 Preferred Shares', 3)\n",
      " ('Series Seed Preferred Shares', 3)\n",
      " ('Series A3 Preferred Shares', 3)\n",
      " ('Series C1 Preferred Shares', 3)\n",
      " ('Series B2 Preferred Shares', 4)\n",
      " ('Series E Preferred Shares', 4)\n",
      " ('Series D1 Preferred Shares', 4)\n",
      " ('Series A2 Preferred Shares', 5)\n",
      " ('Class B Common Shares', 5)\n",
      " ('Class A Common Shares', 6)\n",
      " ('Series B1 Preferred Shares', 7)\n",
      " ('Series D Preferred Shares', 9)\n",
      " ('Series A1 Preferred Shares', 14)\n",
      " ('Series C Preferred Shares', 23)\n",
      " ('Series B Preferred Shares', 42)\n",
      " ('Series A Preferred Shares', 45)\n",
      " ('Total Shares', 46)\n",
      " ('Common Shares', 60)\n",
      " ('Preferred Shares', 62)\n"
     ]
    }
   ],
   "source": [
    "print \"===== [Stats on the training data] =====\"\n",
    "print \"Number of documents: %i\" % len(files)\n",
    "print \"Number of training samples: %i\" % len(stripped_labels)\n",
    "print \"Number of unique labels: %i\" % len(set(share_tags))\n",
    "print \"%s\" % \"\\n \".join([str(x) for x in sorted(tags_to_count.items(), key=lambda x: x[1])])\n"
   ]
  },
  {
   "cell_type": "markdown",
   "metadata": {},
   "source": [
    "Tokenize each document by sentences, label each sentence as interesting or not (it's interesting if it has tags) and vectorize by three features. This will be used as training data for our decision tree for whether a sentence is interesting or not. \n",
    "\n",
    "Currently each sentence has three features that the decision tree will use. \n",
    "- Contains a number with commas\n",
    "- Sentence Length\n",
    "- Contains the word 'stock' or 'share'\n",
    "\n"
   ]
  },
  {
   "cell_type": "code",
   "execution_count": 196,
   "metadata": {
    "collapsed": false
   },
   "outputs": [
    {
     "name": "stdout",
     "output_type": "stream",
     "text": [
      "Processed 10057 sentences\n",
      "   179 are interesting\n"
     ]
    }
   ],
   "source": [
    "from sentence import *\n",
    "sentence_objs = []\n",
    "features = [ContainsCommaNumber, SentenceLength, ContainsStockOrShare]\n",
    "\n",
    "for f in files:\n",
    "    with open(f, 'r') as in_f:\n",
    "        raw_text = filter_ascii(in_f.read())\n",
    "        \n",
    "        # Create sentence objects: see sentence.py for the way this is done\n",
    "        for s in parser.tokenize(raw_text):\n",
    "            sentence_objs += [Sentence(s)]\n",
    "\n",
    "\n",
    "sentence_vecs = [s.to_vector(features) for s in sentence_objs]\n",
    "output_labels = [s.is_interesting_as_int() for s in sentence_objs]\n",
    "print \"Processed %i sentences\" % len(sentence_objs)\n",
    "print \"   %i are interesting\" % output_labels.count(1)\n"
   ]
  },
  {
   "cell_type": "code",
   "execution_count": 207,
   "metadata": {
    "collapsed": false
   },
   "outputs": [
    {
     "name": "stdout",
     "output_type": "stream",
     "text": [
      "====== [Training report] ======\n",
      "             precision    recall  f1-score   support\n",
      "\n",
      "          0       1.00      1.00      1.00      6619\n",
      "          1       0.94      0.92      0.93       119\n",
      "\n",
      "avg / total       1.00      1.00      1.00      6738\n",
      "\n"
     ]
    },
    {
     "data": {
      "image/png": "[encoded data removed]",
      "text/plain": [
       "<matplotlib.figure.Figure at 0x10c843690>"
      ]
     },
     "metadata": {},
     "output_type": "display_data"
    },
    {
     "name": "stdout",
     "output_type": "stream",
     "text": [
      "[[6612    7]\n",
      " [   9  110]]\n",
      "====== [Test report] =====\n",
      "             precision    recall  f1-score   support\n",
      "\n",
      "          0       1.00      1.00      1.00      3259\n",
      "          1       0.77      0.78      0.78        60\n",
      "\n",
      "avg / total       0.99      0.99      0.99      3319\n",
      "\n"
     ]
    },
    {
     "data": {
      "image/png": "[encoded data removed]",
      "text/plain": [
       "<matplotlib.figure.Figure at 0x1108e7450>"
      ]
     },
     "metadata": {},
     "output_type": "display_data"
    },
    {
     "name": "stdout",
     "output_type": "stream",
     "text": [
      "[[3245   14]\n",
      " [  13   47]]\n"
     ]
    }
   ],
   "source": [
    "import pylab as pl\n",
    "from sklearn import tree, cross_validation\n",
    "from sklearn.metrics import classification_report, confusion_matrix\n",
    "clf = tree.DecisionTreeClassifier()\n",
    "\n",
    "\n",
    "\n",
    "v_train, v_test, out_train, out_test = cross_validation.train_test_split(sentence_vecs, output_labels, test_size=.33, random_state=0)\n",
    "clf = clf.fit(v_train, out_train)\n",
    "out_train_pred = clf.predict(v_train)\n",
    "out_test_pred = clf.predict(v_test)\n",
    "\n",
    "print \"====== [Training report] ======\"\n",
    "print classification_report(out_train, out_train_pred)\n",
    "cm_train = confusion_matrix(out_train, out_train_pred)\n",
    "pl.matshow(cm_train)\n",
    "pl.colorbar()\n",
    "pl.show()\n",
    "print cm_train\n",
    "\n",
    "print \"====== [Test report] =====\"\n",
    "print classification_report(out_test, out_test_pred)\n",
    "cm_test = confusion_matrix(out_test, out_test_pred)\n",
    "pl.matshow(cm_test)\n",
    "pl.colorbar()\n",
    "pl.show()\n",
    "print cm_test"
   ]
  },
  {
   "cell_type": "markdown",
   "metadata": {},
   "source": [
    "## Stage 1: Interesting Sentences"
   ]
  },
  {
   "cell_type": "markdown",
   "metadata": {},
   "source": [
    "Vectorize each sentence, labelling it as interesting or not. Doing it using classification ('Interesting', 'Not') is a better long term approach because it allows for future labels to be added in addition to the stock data labelling. This might require new sentence level features to be added to `sentence.py`"
   ]
  },
  {
   "cell_type": "markdown",
   "metadata": {},
   "source": [
    "# Testing Small Algorithms"
   ]
  },
  {
   "cell_type": "markdown",
   "metadata": {},
   "source": [
    "#### Matching the labels within documents"
   ]
  },
  {
   "cell_type": "code",
   "execution_count": 10,
   "metadata": {
    "collapsed": false
   },
   "outputs": [],
   "source": [
    "s = \"The Corporation will have the authority to issue 14,000,000[[Total Shares:14,000,000]] shares of capital stock, $0.0001 par value per share, of which 10,000,000[[Common Shares:10,000,000]] shares will be Common Stock and of which 4,000,000[[Preferred Shares:4,000,000]] shares will be Preferred Stock.\""
   ]
  },
  {
   "cell_type": "code",
   "execution_count": 100,
   "metadata": {
    "collapsed": false
   },
   "outputs": [
    {
     "name": "stdout",
     "output_type": "stream",
     "text": [
      "[59, 133, 184]\n",
      "The Corporation will have the authority to issue 14,000,000 shares of capital stock, $0.0001 par value per share, of which 10,000,000 shares will be Common Stock and of which 4,000,000 shares will be Preferred Stock.\n",
      "['14,000,000', '10,000,000', ' 4,000,000']\n"
     ]
    }
   ],
   "source": [
    "regex = \"\\[\\[(.*?)\\]\\]\"\n",
    "running_length = 0\n",
    "spans = []\n",
    "for m in re.finditer(regex, s):\n",
    "    sp = m.span()\n",
    "    adjusted_pos = sp[0] - running_length\n",
    "    spans += [adjusted_pos]\n",
    "    running_length += sp[1] - sp[0]\n",
    "\n",
    "print spans\n",
    "without_tags = re.sub(regex, \"\", s)\n",
    "print without_tags\n",
    "print [without_tags[(x-10): x] for x in spans]\n"
   ]
  },
  {
   "cell_type": "code",
   "execution_count": 23,
   "metadata": {
    "collapsed": false
   },
   "outputs": [
    {
     "data": {
      "text/plain": [
       "'[[Preferred Shares:4,000,000]]'"
      ]
     },
     "execution_count": 23,
     "metadata": {},
     "output_type": "execute_result"
    }
   ],
   "source": [
    "def insertChars(s, c, *indeces)\n",
    "    \"\"\"Insert character `c` at `indeces` in the string `s`\"\"\"\n",
    "    splt = lambda s, i, : \n"
   ]
  },
  {
   "cell_type": "code",
   "execution_count": 99,
   "metadata": {
    "collapsed": false
   },
   "outputs": [
    {
     "data": {
      "text/plain": [
       "'abc|de|f|ghijk'"
      ]
     },
     "execution_count": 99,
     "metadata": {},
     "output_type": "execute_result"
    }
   ],
   "source": []
  },
  {
   "cell_type": "markdown",
   "metadata": {
    "collapsed": true
   },
   "source": [
    "#### Tokenizing documents by sentences and matching integers"
   ]
  },
  {
   "cell_type": "code",
   "execution_count": 61,
   "metadata": {
    "collapsed": true
   },
   "outputs": [],
   "source": [
    "import nltk\n",
    "parser = nltk.data.load('tokenizers/punkt/english.pickle')"
   ]
  },
  {
   "cell_type": "code",
   "execution_count": 115,
   "metadata": {
    "collapsed": true
   },
   "outputs": [],
   "source": [
    "sample_paragraph = \"\"\"\n",
    "RTICLE IV\n",
    "Effective upon filing of this Amended and Restated Certificate of Incorporation with the Delaware Secretary of State, and prior to the issuance of any shares of Preferred Stock each currently outstanding share of Common Stock will be converted and reconstituted into 8.78204 shares of Common Stock of the Corporation (the “Stock Split”). No fractional shares or scrip representing fractional shares will be issued in connection with such Stock Split. If, after the aforementioned aggregation, the Stock Split would result in the issuance of any fractional share, the Corporation shall, in lieu of issuing any fractional share, pay cash equal to the product of such fraction multiplied by the Common Stock’s fair market value (as determined by the Board of Directors) on the date of conversion. All numbers of shares, and all amounts stated on a per share basis, contained in this Amended and Restated Certificate of Incorporation, are stated after giving effect to such Stock Split and no further adjustment shall be made as a consequence of such Stock Split.\n",
    "The Corporation will have the authority to issue 14,000,000[[Total Shares:14,000,000]] shares of capital stock, $0.0001 par value per share, of which 10,000,000[[Common Shares:10,000,000]] shares will be Common Stock and of which 4,000,000[[Preferred Shares:4,000,000]] shares will be Preferred Stock.\n",
    "11 7^1901? v5\n",
    "\"\"\""
   ]
  },
  {
   "cell_type": "code",
   "execution_count": 63,
   "metadata": {
    "collapsed": true
   },
   "outputs": [],
   "source": [
    "import string\n",
    "filter_ascii = lambda s: filter(lambda x: x in string.printable, s)\n",
    "clean_par = filter_ascii(sample_paragraph)"
   ]
  },
  {
   "cell_type": "code",
   "execution_count": 64,
   "metadata": {
    "collapsed": true
   },
   "outputs": [],
   "source": [
    "sentences = parser.tokenize(sample_paragraph)"
   ]
  },
  {
   "cell_type": "markdown",
   "metadata": {},
   "source": [
    "*It's notable that the parser works pretty well. For instance, it does not split on the \".\" in \"$0.0001 per share\"*"
   ]
  },
  {
   "cell_type": "code",
   "execution_count": 68,
   "metadata": {
    "collapsed": false
   },
   "outputs": [
    {
     "name": "stdout",
     "output_type": "stream",
     "text": [
      "\n",
      "RTICLE IV\n",
      "Effective upon filing of this Amended and Restated Certificate of Incorporation with the Delaware Secretary of State, and prior to the issuance of any shares of Preferred Stock each currently outstanding share of Common Stock will be converted and reconstituted into 8.78204 shares of Common Stock of the Corporation (the “Stock Split”).\n",
      " ------ \n",
      "No fractional shares or scrip representing fractional shares will be issued in connection with such Stock Split.\n",
      " ------ \n",
      "If, after the aforementioned aggregation, the Stock Split would result in the issuance of any fractional share, the Corporation shall, in lieu of issuing any fractional share, pay cash equal to the product of such fraction multiplied by the Common Stock’s fair market value (as determined by the Board of Directors) on the date of conversion.\n",
      " ------ \n",
      "All numbers of shares, and all amounts stated on a per share basis, contained in this Amended and Restated Certificate of Incorporation, are stated after giving effect to such Stock Split and no further adjustment shall be made as a consequence of such Stock Split.\n",
      " ------ \n",
      "The Corporation will have the authority to issue 14,000,000[[Total Shares:14,000,000]] shares of capital stock, $0.0001 par value per share, of which 10,000,000[[Common Shares:10,000,000]] shares will be Common Stock and of which 4,000,000[[Preferred Shares:4,000,000]] shares will be Preferred Stock.\n",
      " ------ \n",
      "11 7^1901?\n",
      " ------ \n",
      "v5\n",
      "\n"
     ]
    }
   ],
   "source": [
    "print \"\\n ------ \\n\".join(sentences)"
   ]
  },
  {
   "cell_type": "markdown",
   "metadata": {},
   "source": [
    "#### NUMPY Scratch work"
   ]
  },
  {
   "cell_type": "code",
   "execution_count": 101,
   "metadata": {
    "collapsed": true
   },
   "outputs": [],
   "source": [
    "import numpy as np\n"
   ]
  },
  {
   "cell_type": "code",
   "execution_count": 114,
   "metadata": {
    "collapsed": false
   },
   "outputs": [
    {
     "name": "stdout",
     "output_type": "stream",
     "text": [
      "(3,)\n",
      "(3, 1)\n",
      "3\n",
      "3\n"
     ]
    }
   ],
   "source": [
    "flat_v = np.array([1, 2, 3])\n",
    "tall_v = np.array([[1], [2], [3]])\n",
    "reshape_v = tall_v.reshape(-1)\n",
    "print flat_v.shape\n",
    "print tall_v.shape\n",
    "print reshape_v.shape[0]\n",
    "print flat_v.reshape(-1).shape[0]"
   ]
  },
  {
   "cell_type": "code",
   "execution_count": 124,
   "metadata": {
    "collapsed": false
   },
   "outputs": [
    {
     "data": {
      "text/plain": [
       "['14,000,000',\n",
       " '14,000,000',\n",
       " '10,000,000',\n",
       " '10,000,000',\n",
       " '4,000,000',\n",
       " '4,000,000']"
      ]
     },
     "execution_count": 124,
     "metadata": {},
     "output_type": "execute_result"
    }
   ],
   "source": [
    "integer_regex = r'\\d+(?:,\\d+)+'\n",
    "re.findall(integer_regex, sample_paragraph)"
   ]
  },
  {
   "cell_type": "code",
   "execution_count": 134,
   "metadata": {
    "collapsed": false
   },
   "outputs": [
    {
     "data": {
      "text/plain": [
       "'\\nrticle iv\\neffective upon filing of this amended and restated certificate of incorporation with the delaware secretary of state, and prior to the issuance of any shares of preferred stock each currently outstanding share of common stock will be converted and reconstituted into 8.78204 shares of common stock of the corporation (the \\xe2\\x80\\x9cstock split\\xe2\\x80\\x9d). no fractional shares or scrip representing fractional shares will be issued in connection with such stock split. if, after the aforementioned aggregation, the stock split would result in the issuance of any fractional share, the corporation shall, in lieu of issuing any fractional share, pay cash equal to the product of such fraction multiplied by the common stock\\xe2\\x80\\x99s fair market value (as determined by the board of directors) on the date of conversion. all numbers of shares, and all amounts stated on a per share basis, contained in this amended and restated certificate of incorporation, are stated after giving effect to such stock split and no further adjustment shall be made as a consequence of such stock split.\\nthe corporation will have the authority to issue 14,000,000[[total shares:14,000,000]] shares of capital stock, $0.0001 par value per share, of which 10,000,000[[common shares:10,000,000]] shares will be common stock and of which 4,000,000[[preferred shares:4,000,000]] shares will be preferred stock.\\n11 7^1901? v5\\n'"
      ]
     },
     "execution_count": 134,
     "metadata": {},
     "output_type": "execute_result"
    }
   ],
   "source": [
    "sample_paragraph.lower()\n"
   ]
  },
  {
   "cell_type": "code",
   "execution_count": 135,
   "metadata": {
    "collapsed": true
   },
   "outputs": [],
   "source": [
    "\n"
   ]
  },
  {
   "cell_type": "code",
   "execution_count": 137,
   "metadata": {
    "collapsed": false
   },
   "outputs": [],
   "source": []
  },
  {
   "cell_type": "code",
   "execution_count": 159,
   "metadata": {
    "collapsed": false
   },
   "outputs": [],
   "source": []
  },
  {
   "cell_type": "code",
   "execution_count": 167,
   "metadata": {
    "collapsed": false
   },
   "outputs": [
    {
     "name": "stdout",
     "output_type": "stream",
     "text": [
      "[array([ 0, 53,  1]), array([ 0, 17,  1]), array([ 0, 56,  1]), array([ 0, 45,  1]), array([ 3, 35,  1]), array([0, 2, 0]), array([0, 1, 0])]\n"
     ]
    }
   ],
   "source": [
    "from sentence import * \n",
    "features = [ContainsCommaNumber, SentenceLength, ContainsStockOrShare]\n",
    "sentences = [filter_ascii(s) for s in sentences]\n",
    "sent_objs = [Sentence(s) for s in sentences]\n",
    "#print sent_objs\n",
    "#print [s.is_interesting() for s in sent_objs]\n",
    "print [s.to_vector(features) for s in sent_objs]\n"
   ]
  },
  {
   "cell_type": "code",
   "execution_count": null,
   "metadata": {
    "collapsed": true
   },
   "outputs": [],
   "source": []
  },
  {
   "cell_type": "code",
   "execution_count": null,
   "metadata": {
    "collapsed": true
   },
   "outputs": [],
   "source": []
  }
 ],
 "metadata": {
  "kernelspec": {
   "display_name": "Python 2",
   "language": "python",
   "name": "python2"
  },
  "language_info": {
   "codemirror_mode": {
    "name": "ipython",
    "version": 2
   },
   "file_extension": ".py",
   "mimetype": "text/x-python",
   "name": "python",
   "nbconvert_exporter": "python",
   "pygments_lexer": "ipython2",
   "version": "2.7.6"
  }
 },
 "nbformat": 4,
 "nbformat_minor": 0
}
