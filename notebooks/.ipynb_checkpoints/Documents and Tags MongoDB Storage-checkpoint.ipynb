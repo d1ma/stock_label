{
 "cells": [
  {
   "cell_type": "code",
   "execution_count": 82,
   "metadata": {
    "collapsed": false
   },
   "outputs": [
    {
     "name": "stdout",
     "output_type": "stream",
     "text": [
      "The autoreload extension is already loaded. To reload it, use:\n",
      "  %reload_ext autoreload\n"
     ]
    }
   ],
   "source": [
    "%load_ext autoreload\n",
    "%autoreload 2\n",
    "import sys\n",
    "sys.path.append('..')\n",
    "\n",
    "# import everything from models: files, tags, etc\n",
    "from models import *"
   ]
  },
  {
   "cell_type": "code",
   "execution_count": 83,
   "metadata": {
    "collapsed": false
   },
   "outputs": [
    {
     "name": "stdout",
     "output_type": "stream",
     "text": [
      "[(0, 29), (6, 29), (12, 29), (14, 29), (9, 29), (4, 29), (6, 29), (1, 29), (7, 29), (18, 29), (9, 29), (20, 29), (8, 29), (19, 29), (11, 29), (3, 29), (11, 29), (17, 29), (6, 29), (13, 29), (8, 29), (5, 29), (11, 29), (1, 29), (6, 29), (8, 29), (3, 29), (2, 29), (12, 29), (11, 29), (12, 29), (2, 29), (11, 29), (8, 29), (1, 29), (9, 29), (10, 29), (9, 29), (0, 29), (10, 29), (5, 29), (16, 29), (8, 29), (10, 29), (14, 29), (17, 29), (10, 29), (11, 29), (12, 29), (4, 29), (11, 29), (21, 29), (31, 29), (11, 29), (13, 29), (6, 29), (12, 29), (5, 29), (8, 29), (30, 29), (6, 29), (11, 29), (3, 29), (29, 29), (27, 29), (12, 29), (32, 29), (9, 29), (9, 29), (12, 29), (12, 29), (18, 29), (12, 29), (22, 29), (16, 29)]\n"
     ]
    }
   ],
   "source": [
    "settings.set_up()\n",
    "r = main.Main()"
   ]
  },
  {
   "cell_type": "code",
   "execution_count": 84,
   "metadata": {
    "collapsed": false
   },
   "outputs": [],
   "source": [
    "sample_file = r.tfiles[1]"
   ]
  },
  {
   "cell_type": "code",
   "execution_count": 85,
   "metadata": {
    "collapsed": false
   },
   "outputs": [
    {
     "name": "stdout",
     "output_type": "stream",
     "text": [
      "[Common Shares -> 13,500,000 @ 1304, Preferred Shares -> 8,312,785 @ 1390, Series A1 Preferred Shares -> 436,507 @ 1484, Series A2 Preferred Shares -> 2,541,152 @ 1599, Series B Preferred Shares -> 2,824,209 @ 1794, Series C Preferred Shares -> 2,510,917 @ 1908]\n"
     ]
    }
   ],
   "source": [
    "print sample_file.tags"
   ]
  },
  {
   "cell_type": "markdown",
   "metadata": {},
   "source": [
    "## Instantiate Mongo DB Database and push data to it"
   ]
  },
  {
   "cell_type": "code",
   "execution_count": 86,
   "metadata": {
    "collapsed": true
   },
   "outputs": [],
   "source": [
    "from pymongo import MongoClient"
   ]
  },
  {
   "cell_type": "code",
   "execution_count": 87,
   "metadata": {
    "collapsed": false
   },
   "outputs": [],
   "source": [
    "client = MongoClient('localhost', 3001)\n",
    "client.database_names()\n",
    "db = client.meteor"
   ]
  },
  {
   "cell_type": "code",
   "execution_count": 125,
   "metadata": {
    "collapsed": false
   },
   "outputs": [],
   "source": [
    "from pymongo import collection\n",
    "\n",
    "## Get the databases. Add create=True to create if needed\n",
    "docs = collection.Collection(db, 'docs')\n",
    "tags = collection.Collection(db, 'tags')\n",
    "numbers = collection.Collection(db, 'auto-entities')"
   ]
  },
  {
   "cell_type": "code",
   "execution_count": 126,
   "metadata": {
    "collapsed": false
   },
   "outputs": [
    {
     "data": {
      "text/plain": [
       "{u'electionId': ObjectId('55d7477eb278d733ad568bd9'),\n",
       " u'lastOp': Timestamp(1440214717, 16684),\n",
       " u'n': 0,\n",
       " u'ok': 1}"
      ]
     },
     "execution_count": 126,
     "metadata": {},
     "output_type": "execute_result"
    }
   ],
   "source": [
    "docs.remove({})\n",
    "tags.remove({})\n",
    "numbers.remove({})"
   ]
  },
  {
   "cell_type": "code",
   "execution_count": 127,
   "metadata": {
    "collapsed": true
   },
   "outputs": [],
   "source": [
    "import json \n",
    "with open(\"nametail_to_company.json\", 'r') as ntc:\n",
    "    nametail_to_company = json.load(ntc)"
   ]
  },
  {
   "cell_type": "code",
   "execution_count": 128,
   "metadata": {
    "collapsed": false
   },
   "outputs": [],
   "source": [
    "from pymongo import InsertOne\n",
    "import os"
   ]
  },
  {
   "cell_type": "code",
   "execution_count": 152,
   "metadata": {
    "collapsed": false
   },
   "outputs": [
    {
     "name": "stdout",
     "output_type": "stream",
     "text": [
      "Requests contains 75 InsertOne's\n"
     ]
    }
   ],
   "source": [
    "requests = []\n",
    "batch_0_docs = []\n",
    "\n",
    "tags_with_docs = True\n",
    "\n",
    "for tfile in r.tfiles:\n",
    "    doc_repr = {}\n",
    "    doc_repr['contents'] = tfile.raw_clean\n",
    "    doc_repr['filename'] = tfile.filename\n",
    "    head, tail = os.path.split(tfile.filename)\n",
    "    doc_repr['reviewed'] = True\n",
    "    doc_repr['company'] = nametail_to_company.get(tail, 'n/a')\n",
    "    doc_repr['filename_tail'] = tail\n",
    "    doc_repr['old_id'] = tfile.id\n",
    "    doc_repr['batch'] = 0\n",
    "    requests.append(InsertOne(doc_repr))\n",
    "    batch_0_docs.append(tail)\n",
    "print(\"Requests contains %i InsertOne's\" % len(requests))"
   ]
  },
  {
   "cell_type": "code",
   "execution_count": 135,
   "metadata": {
    "collapsed": false
   },
   "outputs": [
    {
     "data": {
      "text/plain": [
       "<pymongo.results.BulkWriteResult at 0x113e65f00>"
      ]
     },
     "execution_count": 135,
     "metadata": {},
     "output_type": "execute_result"
    }
   ],
   "source": [
    "# Write the requests to the docs collection\n",
    "docs.remove({})\n",
    "docs.bulk_write(requests)"
   ]
  },
  {
   "cell_type": "code",
   "execution_count": 147,
   "metadata": {
    "collapsed": false
   },
   "outputs": [
    {
     "name": "stdout",
     "output_type": "stream",
     "text": [
      "1440343934292\n",
      "1440343719568\n"
     ]
    }
   ],
   "source": [
    "import time\n",
    "print int(time.time() * 1000)\n",
    "timeJS = str(1440343719568 )\n",
    "print timeJS"
   ]
  },
  {
   "cell_type": "code",
   "execution_count": 154,
   "metadata": {
    "collapsed": false
   },
   "outputs": [
    {
     "name": "stdout",
     "output_type": "stream",
     "text": [
      "Num-Requests contains 0 InsertOne's\n",
      "Tag-Requests contains 818 InsertOne's\n",
      "Updated 75 documents\n"
     ]
    }
   ],
   "source": [
    "import random\n",
    "import time\n",
    "\n",
    "def generate_string_id(i=None):\n",
    "    if i:\n",
    "        return str(int(time.time() * 1000)) + str(i) + str(int(random.random() * 1000))\n",
    "    else:\n",
    "        return str(int(time.time() * 1000)) + str(int(random.random() * 10000))\n",
    "\n",
    "\n",
    "# Create the requests for tags\n",
    "tag_requests = []\n",
    "num_requests = []\n",
    "inc_nums = 0\n",
    "inc_tags = 0\n",
    "num_docs_updated = 0\n",
    "for tfile in r.tfiles:\n",
    "    tfile_entry = docs.find_one({'old_id': tfile.id})\n",
    "    tfile_id = tfile_entry['_id']\n",
    "    \n",
    "    tags_for_file = []\n",
    "    \n",
    "    for i, num in enumerate(tfile.numbers):\n",
    "        tag_repr = {}\n",
    "        tag_repr['text'] = num.match\n",
    "        tag_repr['pos_end'] = num.pos\n",
    "        tag_repr['pos_start'] = num.pos - len(num.match)\n",
    "        tag_repr['document_id'] = tfile_id\n",
    "        tag_repr['batch'] = 0\n",
    "        tag_repr['id'] = generate_string_id(i)\n",
    "\n",
    "        inc_tags += 1\n",
    "        if num.label:\n",
    "            tag_repr['description'] = num.label.tag_key\n",
    "            tag_repr['needs_approval'] = False\n",
    "        else:\n",
    "            tag_repr['needs_approval'] = False\n",
    "        \n",
    "        tag_requests.append(InsertOne(tag_repr))\n",
    "        tags_for_file += [tag_repr]\n",
    "        \n",
    "    if tags_with_docs:\n",
    "        docs.update({'old_id': tfile.id}, {\"$set\": {\"tags\": tags_for_file}})\n",
    "        num_docs_updated += 1\n",
    "        \n",
    "        \n",
    "#### [ Print stats ] ####\n",
    "print(\"Num-Requests contains %i InsertOne's\" % len(num_requests))\n",
    "print(\"Tag-Requests contains %i InsertOne's\" % len(tag_requests))\n",
    "print(\"Updated %i documents\" % num_docs_updated)"
   ]
  },
  {
   "cell_type": "code",
   "execution_count": 132,
   "metadata": {
    "collapsed": false
   },
   "outputs": [
    {
     "name": "stdout",
     "output_type": "stream",
     "text": [
      "Auto-entities contains 0 entries\n",
      "Tags contains 818 entries\n"
     ]
    }
   ],
   "source": [
    "numbers.remove({})\n",
    "tags.remove({})\n",
    "if len(num_requests) > 0:\n",
    "    numbers.bulk_write(num_requests)\n",
    "if len(tag_requests) > 0:\n",
    "    tags.bulk_write(tag_requests)\n",
    "\n",
    "print(\"Auto-entities contains %i entries\" % numbers.find({}).count())\n",
    "print(\"Tags contains %i entries\" % tags.find({}).count())"
   ]
  },
  {
   "cell_type": "code",
   "execution_count": 133,
   "metadata": {
    "collapsed": true
   },
   "outputs": [],
   "source": [
    "import json\n",
    "with open(\"batch_0_docs.json\",'w') as outfile:\n",
    "    json.dump(batch_0_docs, outfile)"
   ]
  },
  {
   "cell_type": "code",
   "execution_count": 118,
   "metadata": {
    "collapsed": false
   },
   "outputs": [],
   "source": [
    "with open(\"nametail_to_company.json\", 'r') as ntc:\n",
    "    nametail_to_company = json.load(ntc)"
   ]
  },
  {
   "cell_type": "code",
   "execution_count": 119,
   "metadata": {
    "collapsed": false
   },
   "outputs": [
    {
     "data": {
      "text/plain": [
       "[u'Marathon Technologies 02112010.txt',\n",
       " u'Glaukos 01252011.txt',\n",
       " u'infinian10192010.txt',\n",
       " u'12987_Unidesk_COI_07062009.txt',\n",
       " u'3795_JiWire_COI_05042011.txt',\n",
       " u'17401_nextdoor.com_COI_09022009.txt',\n",
       " u'solaria071207.txt',\n",
       " u'CloudCrowd 08122010.txt',\n",
       " u'13369_PlaceIQ_COI_06102013.txt',\n",
       " u'11612_TOATechnologies_COI_07032013_CorrectionForSplit.txt']"
      ]
     },
     "execution_count": 119,
     "metadata": {},
     "output_type": "execute_result"
    }
   ],
   "source": [
    "nametail_to_company.keys()[:10]"
   ]
  },
  {
   "cell_type": "code",
   "execution_count": null,
   "metadata": {
    "collapsed": true
   },
   "outputs": [],
   "source": []
  }
 ],
 "metadata": {
  "kernelspec": {
   "display_name": "Python 2",
   "language": "python",
   "name": "python2"
  },
  "language_info": {
   "codemirror_mode": {
    "name": "ipython",
    "version": 2
   },
   "file_extension": ".py",
   "mimetype": "text/x-python",
   "name": "python",
   "nbconvert_exporter": "python",
   "pygments_lexer": "ipython2",
   "version": "2.7.6"
  }
 },
 "nbformat": 4,
 "nbformat_minor": 0
}
